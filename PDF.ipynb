{
 "cells": [
  {
   "cell_type": "markdown",
   "id": "fe994207",
   "metadata": {},
   "source": [
    "# Q1. What is the Probability density function?\n",
    "\n",
    "# ANS\n",
    "\n",
    "* The Probability density function (PDF) is a function that describes the relative likelihood of a continuous random variable taking on a certain value. In other words, it gives the probability of a random variable taking on a specific value within a given range.\n",
    "\n",
    "* The PDF is used to describe the distribution of a continuous random variable, and it is typically denoted by f(x), where x represents the possible values that the random variable can take. The PDF is defined such that the area under the curve of the PDF over a certain range of values represents the probability that the random variable falls within that range.\n",
    "\n",
    "* The PDF is characterized by certain properties. First, the PDF is always non-negative, meaning that it is greater than or equal to zero for all possible values of x. Second, the area under the curve of the PDF over all possible values of x is equal to one. Finally, the height of the PDF at any given value of x represents the relative likelihood of the random variable taking on that value.\n",
    "\n",
    "* The PDF is an important concept in probability theory and statistics, as it allows us to analyze and model continuous random variables. It is used in many applications, including finance, physics, engineering, and social sciences.\n",
    "\n",
    "\n",
    "\n",
    "\n",
    "\n"
   ]
  },
  {
   "cell_type": "markdown",
   "id": "7173e014",
   "metadata": {},
   "source": [
    "# Q2. What are the types of Probability distribution?\n",
    "\n",
    "# ANS\n",
    "\n",
    "<font color = 'red'>Discrete Probability Distributions:</font>These are probability distributions that deal with discrete or countable outcomes. Examples of discrete probability distributions include the Binomial distribution, Poisson distribution, and Geometric distribution.\n",
    "<br>\n",
    "<font color = 'red'>Continuous Probability Distributions:</font> These are probability distributions that deal with continuous outcomes, such as time or weight. Examples of continuous probability distributions include the Normal distribution, Exponential distribution, and Uniform distribution.\n",
    "\n",
    "<br><font color = 'red'>Multivariate Probability Distributions: </font> These are probability distributions that deal with multiple variables or outcomes. Examples of multivariate probability distributions include the Multinomial distribution, Joint distribution, and Copula distribution.\n",
    "<br> \n",
    "<font color = 'red'>Mixed Probability Distributions:</font> These are probability distributions that combine both discrete and continuous outcomes. Examples of mixed probability distributions include the Mixed Poisson distribution and the Zero-Inflated Poisson distribution."
   ]
  },
  {
   "cell_type": "markdown",
   "id": "b6416d05",
   "metadata": {},
   "source": [
    "# Q3. Write a Python function to calculate the probability density function of a normal distribution with  given mean and standard deviation at a given point.\n",
    "\n",
    "\n",
    "# ANS"
   ]
  },
  {
   "cell_type": "code",
   "execution_count": 1,
   "id": "f5e989fb",
   "metadata": {},
   "outputs": [
    {
     "name": "stdout",
     "output_type": "stream",
     "text": [
      "0.24197072451914337\n"
     ]
    }
   ],
   "source": [
    "import math\n",
    "\n",
    "def normal_pdf(x, mu, sigma):\n",
    "    \"\"\"\n",
    "    This function calculates the probability density function (PDF) of a normal distribution with given mean and standard deviation at a given point x.\n",
    "    \"\"\"\n",
    "    coeff = 1.0 / (sigma * math.sqrt(2*math.pi))\n",
    "    exponent = math.exp(-(math.pow(x-mu, 2)) / (2 * math.pow(sigma, 2)))\n",
    "    pdf = coeff * exponent\n",
    "    return pdf\n",
    "pdf = normal_pdf(1, 0, 1)\n",
    "print(pdf)"
   ]
  },
  {
   "cell_type": "markdown",
   "id": "ae613491",
   "metadata": {},
   "source": [
    "# Q4. What are the properties of Binomial distribution? Give two examples of events where binomial distribution can be applied.\n",
    "\n",
    "\n",
    "# ANS \n",
    "\n",
    "The properties of the Binomial distribution are:\n",
    "\n",
    "The probability of success is constant: The probability of success (p) remains constant for each trial.\n",
    "\n",
    "<font size=5>Independent trials: Each trial is independent of the others.</font>\n",
    "\n",
    "<font size=5>Fixed number of trials: The number of trials (n) is fixed.</font>\n",
    "\n",
    "<font size=5>Two possible outcomes: Each trial has only two possible outcomes, success or failure.</font>\n",
    "\n",
    "<font size=5>Discrete distribution: The Binomial distribution is a discrete distribution, as it deals with a countable number of successes in a fixed number of trials.</font>\n",
    "\n",
    "Two examples of events where the Binomial distribution can be applied are:\n",
    "\n",
    "<font size=5>Flipping a coin: If we flip a fair coin n times, the number of heads that we get is an example of a Binomial distribution. Here, the probability of success (getting heads) is 0.5, the number of trials (n) is fixed, and each trial is independent of the others.</font>\n",
    "\n",
    "<font size=5>Medical diagnosis: Suppose a new test is developed to diagnose a certain disease. If we test n patients who are known to have the disease, the number of patients who test positive for the disease is an example of a Binomial distribution. Here, the probability of success (testing positive for the disease) is the sensitivity of the test, the number of trials (n) is fixed, and each trial is independent of the others.</font>\n"
   ]
  },
  {
   "cell_type": "markdown",
   "id": "885176f2",
   "metadata": {},
   "source": [
    "# Q5. Generate a random sample of size 1000 from a binomial distribution with probability of success 0.4 and plot a histogram of the results using matplotlib.\n",
    "\n",
    "# ANS"
   ]
  },
  {
   "cell_type": "code",
   "execution_count": 4,
   "id": "c484eadb",
   "metadata": {},
   "outputs": [
    {
     "data": {
      "image/png": "[encoded data removed]",
      "text/plain": [
       "<Figure size 640x480 with 1 Axes>"
      ]
     },
     "metadata": {},
     "output_type": "display_data"
    }
   ],
   "source": [
    "import numpy as np\n",
    "import matplotlib.pyplot as plt\n",
    "\n",
    "# Set the parameters of the Binomial distribution\n",
    "n = 1000\n",
    "p = 0.4\n",
    "\n",
    "# Generate a random sample from the Binomial distribution\n",
    "sample = np.random.binomial(n, p, size=1000)\n",
    "\n",
    "# Plot a histogram of the sample\n",
    "plt.hist(sample, bins=20, edgecolor='w')\n",
    "plt.xlabel('Number of Successes')\n",
    "plt.ylabel('Frequency')\n",
    "plt.title('Binomial Distribution with n=1000, p=0.4')\n",
    "plt.show()\n"
   ]
  },
  {
   "cell_type": "markdown",
   "id": "b610a849",
   "metadata": {},
   "source": [
    "# Q6. Write a Python function to calculate the cumulative distribution function of a Poisson distribution with given mean at a given point.\n",
    "\n",
    "# ANS\n",
    "\n"
   ]
  },
  {
   "cell_type": "code",
   "execution_count": 7,
   "id": "4d58baab",
   "metadata": {},
   "outputs": [
    {
     "name": "stdout",
     "output_type": "stream",
     "text": [
      "The CDF of a Poisson distribution with mean 3.5 at point 4 is 0.7254449533096046\n"
     ]
    }
   ],
   "source": [
    "import math\n",
    "\n",
    "def poisson_cdf(mean, point):\n",
    "    cdf = 0.0\n",
    "    for i in range(point + 1):\n",
    "        cdf += math.exp(-mean) * (mean**i) / math.factorial(i)\n",
    "    return cdf\n",
    "\n",
    "mean = 3.5\n",
    "point = 4\n",
    "cdf = poisson_cdf(mean, point)\n",
    "print(\"The CDF of a Poisson distribution with mean\", mean, \"at point\", point, \"is\", cdf)"
   ]
  },
  {
   "cell_type": "markdown",
   "id": "361ce4ff",
   "metadata": {},
   "source": [
    "# Q7. How Binomial distribution different from Poisson distribution?\n",
    "\n",
    "\n",
    "# ANS\n",
    "\n",
    "* Binomial and Poisson distributions are both discrete probability distributions, but they are used in different contexts and have different properties.<br>\n",
    "\n",
    "* Binomial distribution is used when there are a fixed number of trials, and each trial has only two possible outcomes (success or failure). The probability of success is the same for each trial, and the trials are independent. The binomial distribution is characterized by two parameters: the probability of success (denoted by p) and the number of trials (denoted by n). The probability mass function (PMF) of the binomial distribution gives the probability of obtaining a specific number of successes in n trials.<br>\n",
    "\n",
    "* Poisson distribution, on the other hand, is used to model the number of occurrences of a rare event in a fixed interval of time or space. The Poisson distribution is characterized by a single parameter, lambda (λ), which represents the average number of occurrences in the given interval. The probability mass function (PMF) of the Poisson distribution gives the probability of obtaining a specific number of occurrences in the interval.<br>\n",
    "\n",
    "* One key difference between binomial and Poisson distributions is that the binomial distribution is discrete, meaning it can only take on integer values, while the Poisson distribution can take on any non-negative integer value.\n",
    "\n",
    "* Another difference is in the assumptions made for the two distributions. Binomial distribution assumes a fixed number of trials, and the probability of success is constant for each trial. Poisson distribution assumes that the occurrences are rare and independent of each other, and the average rate of occurrence is constant over time or space.<br>\n",
    "\n",
    "* In summary, binomial distribution is used to model the number of successes in a fixed number of trials with two possible outcomes, while Poisson distribution is used to model the number of occurrences of a rare event in a fixed interval of time or space.<br>\n",
    " "
   ]
  },
  {
   "cell_type": "markdown",
   "id": "36b1de35",
   "metadata": {},
   "source": [
    "# Q8. Generate a random sample of size 1000 from a Poisson distribution with mean 5 and calculate the sample mean and variance.\n",
    "\n",
    "# ANS\n",
    "\n"
   ]
  },
  {
   "cell_type": "code",
   "execution_count": 8,
   "id": "4ba6909c",
   "metadata": {},
   "outputs": [
    {
     "name": "stdout",
     "output_type": "stream",
     "text": [
      "Sample mean: 5.001\n",
      "Sample variance: 5.0060050050050044\n"
     ]
    }
   ],
   "source": [
    "import numpy as np\n",
    "\n",
    "# Set the mean of the Poisson distribution\n",
    "mean = 5\n",
    "\n",
    "# Generate a random sample of size 1000 from the Poisson distribution\n",
    "sample = np.random.poisson(mean, size=1000)\n",
    "\n",
    "# Calculate the sample mean and variance\n",
    "sample_mean = np.mean(sample)\n",
    "sample_var = np.var(sample, ddof=1)\n",
    "\n",
    "# Print the results\n",
    "print(\"Sample mean:\", sample_mean)\n",
    "print(\"Sample variance:\", sample_var)\n"
   ]
  },
  {
   "cell_type": "markdown",
   "id": "8f7ccb7f",
   "metadata": {},
   "source": [
    "# Q9. How mean and variance are related in Binomial distribution and Poisson distribution?\n",
    "\n",
    "# ANS\n",
    "\n",
    "* In the Binomial distribution, the mean is equal to the product of the number of trials and the probability of success in each trial. Specifically, if we have n independent trials each with a probability of success p, then the mean of the Binomial distribution is:\n",
    "\n",
    "$mean = n * p$\n",
    "\n",
    "* The variance of the Binomial distribution is given by:\n",
    "\n",
    "$variance = n * p * (1 - p)$\n",
    "\n",
    "* In the Poisson distribution, the mean is equal to the parameter λ. Specifically, if we have a Poisson distribution with parameter λ, then the mean of the distribution is:\n",
    "\n",
    "$mean = λ$<br>\n",
    "\n",
    "* The variance of the Poisson distribution is also equal to the parameter λ. Specifically, the variance of the Poisson distribution is:<br>\n",
    "$variance = λ$\n",
    "\n",
    "* Thus, in both the Binomial and Poisson distributions, the variance is directly proportional to the mean. As the mean increases, so does the variance. \n"
   ]
  },
  {
   "cell_type": "markdown",
   "id": "d43bd0e6",
   "metadata": {},
   "source": [
    "# Q10. In normal distribution with respect to mean position, where does the least frequent data appear\n",
    "\n",
    "\n",
    "* In a normal distribution, the data is symmetric around the mean. Therefore, the least frequent data appears at the extreme ends of the distribution, which are the values furthest away from the mean. These values are also known as the tails of the distribution.\n",
    "\n",
    "* More specifically, the normal distribution is a continuous probability distribution that is defined by its mean and standard deviation. The highest frequency of data is found at the mean, where the curve has its peak. As you move away from the mean in either direction, the frequency of data decreases gradually until you reach the tails of the distribution, where the frequency of data is the lowest.\n",
    "\n",
    "* The least frequent data appears at the tails of the distribution because the probability of getting a value at the extreme ends is much lower than the probability of getting a value closer to the mean. In fact, the probability of getting a value that is more than two standard deviations away from the mean is less than 5% in a normal distribution, which is considered to be an outlier."
   ]
  },
  {
   "cell_type": "code",
   "execution_count": null,
   "id": "82a79d99",
   "metadata": {},
   "outputs": [],
   "source": []
  }
 ],
 "metadata": {
  "kernelspec": {
   "display_name": "Python 3 (ipykernel)",
   "language": "python",
   "name": "python3"
  },
  "language_info": {
   "codemirror_mode": {
    "name": "ipython",
    "version": 3
   },
   "file_extension": ".py",
   "mimetype": "text/x-python",
   "name": "python",
   "nbconvert_exporter": "python",
   "pygments_lexer": "ipython3",
   "version": "3.9.13"
  }
 },
 "nbformat": 4,
 "nbformat_minor": 5
}
