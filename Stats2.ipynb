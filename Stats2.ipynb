{
 "cells": [
  {
   "cell_type": "markdown",
   "id": "4e7a185f",
   "metadata": {},
   "source": [
    "# Q1. What are the three measures of central tendency?\n",
    "\n",
    "# ANS:\n",
    "\n",
    "mean, median, mode"
   ]
  },
  {
   "cell_type": "markdown",
   "id": "f5ee0e24",
   "metadata": {},
   "source": [
    "# Q2. What is the difference between the mean, median, and mode? How are they used to measure the  central tendency of a dataset ?\n",
    "\n",
    "\n",
    "# Ans:\n",
    "\n",
    "#### Mean:\n",
    "* Mean takes the average of entire data present in a random variable and it helps to understand what is the mean of the data.\n",
    "*  μ= Σ(Xi)/N for population\n",
    "*  s= Σ(Xi)/n for sample\n",
    "* s= sample mean,  μ=population mean, N=population size, n= sample size\n",
    "\n",
    "\n",
    "#### Median:\n",
    "* It is actually the mid value of the sorted data distribution. It helps to understand the middel value of the data.\n",
    "* If the data length is odd then the median will be the exactly the same middle value itself.\n",
    "> example: median of [1,2,3,4,5,6,7] is 4\n",
    "* If the data length is even then in middle 2 values will come, at that time the average of those 2 values will be median\n",
    "> example: for [1,2,3,4,5,6,7,8] the medain will be (4+5)/2 = 4.5  \n",
    "\n",
    "\n",
    "#### Mode:\n",
    "> It is the moset frequently occured value in the data "
   ]
  },
  {
   "cell_type": "markdown",
   "id": "f0f7682f",
   "metadata": {},
   "source": [
    "# Q3. Measure the three measures of central tendency for the given height data:\n",
    "\n",
    " [178,177,176,177,178.2,178,175,179,180,175,178.9,176.2,177,172.5,178,176.5]\n",
    " \n",
    " # ANS"
   ]
  },
  {
   "cell_type": "code",
   "execution_count": 21,
   "id": "0e952026",
   "metadata": {},
   "outputs": [
    {
     "name": "stdout",
     "output_type": "stream",
     "text": [
      "Mean =  177.01875\n",
      "Media =  177.0\n",
      "Mode =  177.0\n"
     ]
    }
   ],
   "source": [
    "import pandas as pd\n",
    "import numpy as np\n",
    "data=pd.DataFrame([178,177,176,177,178.2,178,175,179,180,175,178.9,176.2,177,172.5,178,176.5], columns=[\"x\"])\n",
    "print(\"Mean = \", data.x.mean())\n",
    "print(\"Media = \", data.x.median())\n",
    "print(\"Mode = \", data.x.mode()[0])\n",
    "   "
   ]
  },
  {
   "cell_type": "markdown",
   "id": "8470086d",
   "metadata": {},
   "source": [
    "# Q4. Find the standard deviation for the given data:\n",
    "\n",
    "[178,177,176,177,178.2,178,175,179,180,175,178.9,176.2,177,172.5,178,176.5]\n",
    "\n",
    "# ANS"
   ]
  },
  {
   "cell_type": "code",
   "execution_count": 22,
   "id": "be3fa52a",
   "metadata": {},
   "outputs": [
    {
     "name": "stdout",
     "output_type": "stream",
     "text": [
      "STD =  1.847238930584419\n"
     ]
    }
   ],
   "source": [
    "data=pd.DataFrame([178,177,176,177,178.2,178,175,179,180,175,178.9,176.2,177,172.5,178,176.5], columns=[\"x\"])\n",
    "print(\"STD = \", data.x.std())\n"
   ]
  },
  {
   "cell_type": "markdown",
   "id": "cc9e1ffa",
   "metadata": {},
   "source": [
    "# Q5. How are measures of dispersion such as range, variance, and standard deviation used to describe  the spread of a dataset? Provide an example\n",
    "\n",
    "# ANS:\n",
    "\n",
    "* Measures of dispersion such as range, variance, and standard deviation are used to describe the spread or variability of a dataset. They provide information about how much the values in a dataset differ from each other.\n",
    "#### Range\n",
    "* The range of a dataset is the difference between the maximum and minimum values in the dataset. It is a simple measure of dispersion that is easy to calculate, but it can be affected by outliers. "
   ]
  },
  {
   "cell_type": "code",
   "execution_count": 25,
   "id": "d0545297",
   "metadata": {},
   "outputs": [
    {
     "name": "stdout",
     "output_type": "stream",
     "text": [
      "Range of the dataset: 8\n"
     ]
    }
   ],
   "source": [
    "# example\n",
    "numbers = [1, 5, 2, 7, 4, 3, 6, 8, 9]\n",
    "data_range = max(numbers) - min(numbers)\n",
    "print(\"Range of the dataset:\", data_range)\n",
    "\n"
   ]
  },
  {
   "cell_type": "markdown",
   "id": "6eef020b",
   "metadata": {},
   "source": [
    "# variance\n",
    "\n",
    "*Variance: The variance is a measure of how much the data points deviate from the mean. It is calculated by taking the average of the squared differences between each data point and the mean. The variance of this dataset is:"
   ]
  },
  {
   "cell_type": "code",
   "execution_count": 83,
   "id": "dfff715d",
   "metadata": {},
   "outputs": [
    {
     "data": {
      "text/plain": [
       "1.2048979591836697"
      ]
     },
     "execution_count": 83,
     "metadata": {},
     "output_type": "execute_result"
    }
   ],
   "source": [
    "d=[178,177,176,177,178.2,178,175]\n",
    "\n",
    "m=np.mean(d)\n",
    "xx=[]\n",
    "for i in d:\n",
    "    \n",
    "    \n",
    "    x= (i-np.mean(d))**2  # creation the variance formula var= (Xi-μ)**2/N\n",
    "    x=x/len(d)\n",
    "    xx.append(x)\n",
    "    ver=sum(xx)\n",
    "    \n",
    "ver                 \n",
    "                 \n",
    "                 \n",
    "    "
   ]
  },
  {
   "cell_type": "markdown",
   "id": "9d8fc877",
   "metadata": {},
   "source": [
    "# Standard deviation: The standard deviation is the square root of the variance. It is a commonly used measure of dispersion because it is in the same units as the original data. The standard deviation of this dataset is:"
   ]
  },
  {
   "cell_type": "code",
   "execution_count": 84,
   "id": "b4129362",
   "metadata": {},
   "outputs": [
    {
     "data": {
      "text/plain": [
       "1.0976784407027724"
      ]
     },
     "execution_count": 84,
     "metadata": {},
     "output_type": "execute_result"
    }
   ],
   "source": [
    "d=[178,177,176,177,178.2,178,175]\n",
    "\n",
    "m=np.mean(d)\n",
    "xx=[]\n",
    "for i in d:\n",
    "    \n",
    "    \n",
    "    x= (i-np.mean(d))**2  # creation the variance formula std= sqroot((Xi-μ)**2/N)\n",
    "    x=x/len(d)\n",
    "    xx.append(x)\n",
    "    var= sum(xx)\n",
    "    STD=np.sqrt(var)\n",
    "STD\n",
    "    \n",
    "       \n",
    "    \n"
   ]
  },
  {
   "cell_type": "markdown",
   "id": "1d21cfa7",
   "metadata": {},
   "source": [
    "# Q6. What is a Venn diagram?\n",
    "\n",
    "# ANS\n",
    "\n",
    "A Venn diagram is a graphical representation of set theory, used to show the relationships between different sets of data. It consists of one or more circles, each representing a set, and the area where the circles overlap represents the intersection of the sets. Venn diagrams are used to visually illustrate the relationships between different groups or categories of data.\n",
    "\n",
    "Each circle in a Venn diagram represents a set, and the elements of the set are represented as points or dots within the circle. The circles may overlap, indicating that there are elements that belong to more than one set. The size of each circle is typically proportional to the number of elements in the corresponding set.\n",
    "\n",
    "Venn diagrams are often used to show the relationships between different groups of data in a way that is easy to understand and interpret. For example, in a survey of people's favorite colors, a Venn diagram could be used to show the overlap between those who prefer blue, those who prefer red, and those who prefer green. Another example could be the comparison of the characteristics of different species, with the circles representing the different species and the intersection showing the common characteristics shared by all of them.\n",
    "\n",
    "Venn diagrams can be useful for visualizing complex data sets, and can be used to identify similarities and differences between different groups of data. They are often used in a wide range of fields, including mathematics, statistics, computer science, and business analysis.\n",
    "\n"
   ]
  },
  {
   "cell_type": "code",
   "execution_count": 87,
   "id": "fd1a06d8",
   "metadata": {},
   "outputs": [
    {
     "data": {
      "image/png": "[encoded data removed]",
      "text/plain": [
       "<Figure size 640x480 with 1 Axes>"
      ]
     },
     "metadata": {},
     "output_type": "display_data"
    }
   ],
   "source": [
    "# creation of ven diagram\n",
    "\n",
    "#! pip install  matplotlib_venn \n",
    "from matplotlib_venn import venn2\n",
    "import matplotlib.pyplot as plt\n",
    "\n",
    "# create two sets\n",
    "set1 = set([1, 2, 3, 4, 5])\n",
    "set2 = set([4, 5, 6, 7, 8])\n",
    "\n",
    "# draw the Venn diagram\n",
    "venn2([set1, set2], ('Set 1', 'Set 2'))\n",
    "\n",
    "# add title and labels\n",
    "plt.title('Venn diagram')\n",
    "plt.show()"
   ]
  },
  {
   "attachments": {
    "image.png": {
     "image/png": "[encoded data removed]"
    }
   },
   "cell_type": "markdown",
   "id": "6699ef6d",
   "metadata": {},
   "source": [
    "# ![image.png](attachment:image.png)\n",
    "\n",
    "# ANS"
   ]
  },
  {
   "cell_type": "code",
   "execution_count": 94,
   "id": "734b8564",
   "metadata": {},
   "outputs": [
    {
     "name": "stdout",
     "output_type": "stream",
     "text": [
      "A Intersection B = {2, 6}\n",
      "\n",
      "A U B = {0, 2, 3, 4, 5, 6, 7, 8, 10}\n"
     ]
    }
   ],
   "source": [
    "A= (2,3,4,5,6,7) \n",
    "B= (0,2,6,8,10)\n",
    "\n",
    "A=set(A)\n",
    "B=set(B)\n",
    "\n",
    "# i) A intersection B\n",
    "print(f\"A Intersection B = {A.intersection(B)}\")\n",
    "# ii)  A U B\n",
    "print()\n",
    "print(f\"A U B = {A.union(B)}\")"
   ]
  },
  {
   "cell_type": "markdown",
   "id": "dd8444bf",
   "metadata": {},
   "source": [
    "# Q8. What do you understand about skewness in data?\n",
    "\n",
    "# ANS\n",
    "\n",
    "\n",
    "Skewness in data refers to the degree of asymmetry of a probability distribution. It indicates the extent to which a data distribution is skewed or shifted to one side of the mean.\n",
    "\n",
    "A symmetric distribution has no skewness and its mean, median and mode are equal. Positive skewness indicates that the tail of the distribution is longer on the right side than the left side, while negative skewness indicates that the tail is longer on the left side than the right side.\n",
    "\n",
    "Skewness can be measured using statistical methods such as the skewness coefficient, which provides a numerical value indicating the degree of skewness. A positive coefficient indicates positive skewness, while a negative coefficient indicates negative skewness.\n",
    "\n",
    "Skewness can have a significant impact on data analysis and interpretation. For example, when the data is positively skewed, the mean will be larger than the median, and this can lead to overestimation of the central tendency of the data. On the other hand, when the data is negatively skewed, the mean will be smaller than the median, and this can lead to underestimation of the central tendency of the data.\n",
    "\n",
    "Therefore, it is important to identify and understand the skewness of the data before making any conclusions based on statistical analysis."
   ]
  },
  {
   "cell_type": "markdown",
   "id": "08f216ae",
   "metadata": {},
   "source": [
    "# Q9. If a data is right skewed then what will be the position of median with respect to mean?\n",
    "\n",
    "# ANS\n",
    "\n",
    "\n",
    "For right skewed or +ve skewed data : \n",
    "> mean >= median\n",
    "\n",
    "# for check the diagram below"
   ]
  },
  {
   "cell_type": "code",
   "execution_count": 113,
   "id": "e34b734d",
   "metadata": {},
   "outputs": [
    {
     "data": {
      "image/png": "[encoded data removed]",
      "text/plain": [
       "<Figure size 640x480 with 1 Axes>"
      ]
     },
     "metadata": {},
     "output_type": "display_data"
    }
   ],
   "source": [
    "import numpy as np\n",
    "import matplotlib.pyplot as plt\n",
    "\n",
    "# generate a positively skewed distribution\n",
    "data = np.random.gamma(5, 1, 1000)\n",
    "\n",
    "# plot the histogram\n",
    "plt.hist(data, bins=50, alpha=0.5, color='red', edgecolor=\"yellow\")\n",
    "\n",
    "# add labels and title\n",
    "plt.xlabel('Data')\n",
    "plt.ylabel('Frequency')\n",
    "plt.title('Positively Skewed Distribution')\n",
    "\n",
    "# add vertical lines for mean and median\n",
    "plt.axvline(np.mean(data), color='blue', linestyle='dashed', linewidth=1)\n",
    "plt.axvline(np.median(data), color='k', linestyle='dashed', linewidth=1)\n",
    "\n",
    "# display the plot\n",
    "plt.show()\n"
   ]
  },
  {
   "cell_type": "markdown",
   "id": "02f8e5de",
   "metadata": {},
   "source": [
    "# Q10. Explain the difference between covariance and correlation. How are these measures used in  statistical analysis?\n",
    "\n",
    "# ANS:\n",
    "\n",
    "Covariance and correlation are both measures used to describe the relationship between two variables in statistics. However, they differ in their scale and interpretation.\n",
    "\n",
    "### Covariance:\n",
    "* is a measure of how two variables vary together. It measures the extent to which two variables change in tandem, or in other words, how much they move in the same direction. A positive covariance indicates that the two variables tend to move together in the same direction, while a negative covariance indicates that they tend to move in opposite directions. The scale of covariance is not standardized, which means that the magnitude of the covariance depends on the units of measurement of the two variables.\n",
    "\n",
    "##### The formula for covariance between two variables X and Y is:\n",
    "\n",
    "###### cov(X,Y) = E[(X - E[X])(Y - E[Y])]\n",
    "* where E[X] and E[Y] are the expected values (means) of X and Y, respectively.\n",
    "\n",
    "#### Correlation:\n",
    "* is a standardized measure of the relationship between two variables. It measures the degree to which two variables are linearly related to each other. Correlation takes values between -1 and +1, where a correlation of +1 indicates a perfect positive relationship, a correlation of -1 indicates a perfect negative relationship, and a correlation of 0 indicates no linear relationship. Correlation eliminates the effect of scale and allows us to compare the strength of the relationship between two variables regardless of their units of measurement.\n",
    "\n",
    "###### corr(X,Y) = cov(X,Y) / (std(X) * std(Y))\n",
    "*where cov(X,Y) is the covariance between X and Y, and std(X) and std(Y) are the standard deviations of X and Y, respectively.\n",
    "\n",
    "Covariance and correlation are both used in statistical analysis to investigate the relationship between two variables. Covariance is useful in understanding the direction of the relationship and how much the variables move together, while correlation is useful in understanding the strength of the linear relationship between the two variables. They are commonly used in regression analysis, time series analysis, and portfolio analysis in finance.\n",
    "\n",
    "\n",
    "\n",
    "\n",
    "\n",
    "\n",
    "\n",
    "\n"
   ]
  },
  {
   "cell_type": "markdown",
   "id": "7e88b9d5",
   "metadata": {},
   "source": [
    "# Q11. What is the formula for calculating the sample mean? Provide an example calculation for a dataset \n",
    "\n",
    "# ANS\n",
    "\n",
    "The formula for calculating the sample mean, also known as the arithmetic mean, is:\n",
    "\n",
    "sample mean = (sum of all values in the sample) / (number of values in the sample)-1\n",
    "\n"
   ]
  },
  {
   "cell_type": "code",
   "execution_count": 115,
   "id": "ec4e493f",
   "metadata": {},
   "outputs": [
    {
     "name": "stdout",
     "output_type": "stream",
     "text": [
      "Sample mean: 13.333333333333334\n"
     ]
    }
   ],
   "source": [
    "# Define the dataset as a list\n",
    "data = [3, 5, 7, 9, 11, 13, 15, 17, 19, 21]\n",
    "\n",
    "# Calculate the sample mean using the built-in function sum() and len()\n",
    "sample_mean = sum(data) / (len(data)-1)\n",
    "\n",
    "# Print the result\n",
    "print(\"Sample mean:\", sample_mean)\n"
   ]
  },
  {
   "cell_type": "markdown",
   "id": "99b5a2b0",
   "metadata": {},
   "source": [
    "#  Q12. For a normal distribution data what is the relationship between its measure of central tendency?\n",
    "\n",
    "# ANS\n",
    "\n",
    "For a normal distribution, the three measures of central tendency, namely the mean, median, and mode, are all equal to each other.\n",
    "\n",
    "This is because a normal distribution is a symmetric distribution with a bell-shaped curve, meaning that the data points are distributed equally on both sides of the mean. As a result, the median, which is the middle value of the dataset, is also equal to the mean. Additionally, since the distribution is symmetrical, the mode, which is the most common value in the dataset, is also equal to the mean and median.\n",
    "\n",
    "So, in summary, for a normal distribution, the mean, median, and mode are equal to each other, and they are all located at the center of the distribution.\n",
    "\n",
    "\n",
    "\n",
    "\n",
    "\n"
   ]
  },
  {
   "cell_type": "markdown",
   "id": "c0d99c81",
   "metadata": {},
   "source": [
    "# Q13. How is covariance different from correlation?\n",
    "\n",
    "# Ans\n",
    "\n",
    "* Covariance and correlation are both measures of the relationship between two variables, but they differ in several ways:\n",
    "\n",
    "* Definition: \n",
    ">Covariance measures the degree to which two variables change together, while correlation measures the strength and direction of the linear relationship between two variables.\n",
    "\n",
    "* Scale: \n",
    "> Covariance is not standardized and can take on any value, which makes it difficult to compare the strength of the relationship between different pairs of variables. In contrast, correlation is standardized and takes on values between -1 and +1, making it easier to compare the strength of the relationship between different pairs of variables.\n",
    "\n",
    "* Interpretation: \n",
    "> Covariance is difficult to interpret because its magnitude depends on the scale of the variables. A positive covariance indicates that the two variables tend to move together, while a negative covariance indicates that they tend to move in opposite directions. However, it does not tell us anything about the strength or direction of the relationship. Correlation, on the other hand, is more easily interpretable because it is standardized and takes on values between -1 and +1. A correlation of +1 indicates a perfect positive relationship, a correlation of -1 indicates a perfect negative relationship, and a correlation of 0 indicates no linear relationship.\n",
    "\n",
    "* Units: \n",
    ">Covariance is expressed in the units of the product of the two variables, while correlation is unitless. This means that the covariance between two variables can be influenced by the units of measurement, whereas correlation is not affected by the choice of units.\n",
    "\n"
   ]
  },
  {
   "cell_type": "markdown",
   "id": "0ee7f1e4",
   "metadata": {},
   "source": [
    "# Q14. How do outliers affect measures of central tendency and dispersion? Provide an example\n",
    "\n",
    "\n",
    "Outliers can have a significant impact on measures of central tendency and dispersion, as they can distort the overall picture of the dataset. The effect of outliers on these measures depends on whether they are extreme values in the dataset or not.\n",
    "\n",
    "If the outliers are extreme values, meaning they are significantly different from the rest of the data points, they can skew the measures of central tendency and dispersion towards them. For example, if a dataset of exam scores has one student who scored 100 while all others scored below 80, the mean will be significantly higher than the median, and the standard deviation will be larger due to the presence of the outlier.\n",
    "\n",
    "On the other hand, if the outliers are not extreme values, meaning they are still within the range of the dataset but are just further away from the central tendency, they may not have as much impact on the measures of central tendency and dispersion. For example, if a dataset of salaries has one employee who earns significantly more than the rest, but the difference is not extreme, the effect on the mean and standard deviation may not be as significant."
   ]
  },
  {
   "cell_type": "code",
   "execution_count": 116,
   "id": "534a5e18",
   "metadata": {},
   "outputs": [
    {
     "name": "stdout",
     "output_type": "stream",
     "text": [
      "Mean salary: 78000.0\n",
      "Median salary: 72500.0\n",
      "Standard deviation of salaries: 26944.38717061496\n",
      "Mean salary without outlier: 70000.0\n",
      "Median salary without outlier: 70000.0\n",
      "Standard deviation of salaries without outlier: 12909.944487358056\n"
     ]
    }
   ],
   "source": [
    "import numpy as np\n",
    "\n",
    "# Create a dataset with an outlier\n",
    "salaries = np.array([50000, 55000, 60000, 65000, 70000, 75000, 80000, 85000, 90000, 150000])\n",
    "\n",
    "# Calculate the mean, median, and standard deviation\n",
    "mean = np.mean(salaries)\n",
    "median = np.median(salaries)\n",
    "std = np.std(salaries)\n",
    "\n",
    "print(\"Mean salary:\", mean)\n",
    "print(\"Median salary:\", median)\n",
    "print(\"Standard deviation of salaries:\", std)\n",
    "\n",
    "# Remove the outlier\n",
    "salaries_no_outlier = salaries[salaries < 150000]\n",
    "\n",
    "# Calculate the mean, median, and standard deviation without the outlier\n",
    "mean_no_outlier = np.mean(salaries_no_outlier)\n",
    "median_no_outlier = np.median(salaries_no_outlier)\n",
    "std_no_outlier = np.std(salaries_no_outlier)\n",
    "\n",
    "print(\"Mean salary without outlier:\", mean_no_outlier)\n",
    "print(\"Median salary without outlier:\", median_no_outlier)\n",
    "print(\"Standard deviation of salaries without outlier:\", std_no_outlier)\n"
   ]
  },
  {
   "cell_type": "code",
   "execution_count": null,
   "id": "fc302d1e",
   "metadata": {},
   "outputs": [],
   "source": []
  }
 ],
 "metadata": {
  "kernelspec": {
   "display_name": "Python 3 (ipykernel)",
   "language": "python",
   "name": "python3"
  },
  "language_info": {
   "codemirror_mode": {
    "name": "ipython",
    "version": 3
   },
   "file_extension": ".py",
   "mimetype": "text/x-python",
   "name": "python",
   "nbconvert_exporter": "python",
   "pygments_lexer": "ipython3",
   "version": "3.9.13"
  }
 },
 "nbformat": 4,
 "nbformat_minor": 5
}
