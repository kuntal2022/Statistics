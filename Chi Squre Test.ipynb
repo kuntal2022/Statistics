{
 "cells": [
  {
   "cell_type": "markdown",
   "id": "26595bc9",
   "metadata": {},
   "source": [
    "#  Chi Squre test"
   ]
  },
  {
   "cell_type": "code",
   "execution_count": 9,
   "id": "8fb65239",
   "metadata": {},
   "outputs": [],
   "source": [
    "import pandas as pd, numpy as np, scipy.stats as stat\n",
    "from scipy.stats import chisquare, zscore, ttest_ind"
   ]
  },
  {
   "cell_type": "code",
   "execution_count": 15,
   "id": "eb1c7ca9",
   "metadata": {},
   "outputs": [],
   "source": [
    "# we asked a teacher in a calss how much your student reads in a day weekly tell us the day wise breakup\n",
    "days= [\"sunday\", \"monday\", \"tuesday\", \"wednesday\", \"thrusday\", \"friday\", 'saturday']\n",
    "expected_reading_hrs=[8,9,7,5,9,5,10] # teacher has given this \n",
    "\n",
    "\n",
    "# we have done our survey and have taken this values from the students\n",
    "observed_value=[9,9,8,6,5,9,7]\n",
    "significance_value= 0.05\n",
    "CI=1-significance_value\n",
    "dof= len(expected_reading_hrs)-1\n",
    "\n",
    "# to be noted the sum of population value and observed value should be same"
   ]
  },
  {
   "cell_type": "code",
   "execution_count": 30,
   "id": "a503fd52",
   "metadata": {},
   "outputs": [
    {
     "data": {
      "text/html": [
       "<div>\n",
       "<style scoped>\n",
       "    .dataframe tbody tr th:only-of-type {\n",
       "        vertical-align: middle;\n",
       "    }\n",
       "\n",
       "    .dataframe tbody tr th {\n",
       "        vertical-align: top;\n",
       "    }\n",
       "\n",
       "    .dataframe thead th {\n",
       "        text-align: right;\n",
       "    }\n",
       "</style>\n",
       "<table border=\"1\" class=\"dataframe\">\n",
       "  <thead>\n",
       "    <tr style=\"text-align: right;\">\n",
       "      <th></th>\n",
       "      <th>Days</th>\n",
       "      <th>Expected</th>\n",
       "      <th>Observed_from_sample</th>\n",
       "    </tr>\n",
       "  </thead>\n",
       "  <tbody>\n",
       "    <tr>\n",
       "      <th>0</th>\n",
       "      <td>sunday</td>\n",
       "      <td>8</td>\n",
       "      <td>9</td>\n",
       "    </tr>\n",
       "    <tr>\n",
       "      <th>1</th>\n",
       "      <td>monday</td>\n",
       "      <td>9</td>\n",
       "      <td>9</td>\n",
       "    </tr>\n",
       "    <tr>\n",
       "      <th>2</th>\n",
       "      <td>tuesday</td>\n",
       "      <td>7</td>\n",
       "      <td>8</td>\n",
       "    </tr>\n",
       "    <tr>\n",
       "      <th>3</th>\n",
       "      <td>wednesday</td>\n",
       "      <td>5</td>\n",
       "      <td>6</td>\n",
       "    </tr>\n",
       "    <tr>\n",
       "      <th>4</th>\n",
       "      <td>thrusday</td>\n",
       "      <td>9</td>\n",
       "      <td>5</td>\n",
       "    </tr>\n",
       "    <tr>\n",
       "      <th>5</th>\n",
       "      <td>friday</td>\n",
       "      <td>5</td>\n",
       "      <td>9</td>\n",
       "    </tr>\n",
       "    <tr>\n",
       "      <th>6</th>\n",
       "      <td>saturday</td>\n",
       "      <td>10</td>\n",
       "      <td>7</td>\n",
       "    </tr>\n",
       "  </tbody>\n",
       "</table>\n",
       "</div>"
      ],
      "text/plain": [
       "        Days  Expected  Observed_from_sample\n",
       "0     sunday         8                     9\n",
       "1     monday         9                     9\n",
       "2    tuesday         7                     8\n",
       "3  wednesday         5                     6\n",
       "4   thrusday         9                     5\n",
       "5     friday         5                     9\n",
       "6   saturday        10                     7"
      ]
     },
     "execution_count": 30,
     "metadata": {},
     "output_type": "execute_result"
    }
   ],
   "source": [
    "# make a df\n",
    "# Here categories are sunday, monday...... saturday total 7\n",
    "data= pd.DataFrame({\"Days\":days, \"Expected\": expected_reading_hrs, \"Observed_from_sample\": observed_value})\n",
    "data"
   ]
  },
  {
   "cell_type": "code",
   "execution_count": 35,
   "id": "547d8d11",
   "metadata": {},
   "outputs": [
    {
     "data": {
      "text/plain": [
       "12.591587243743977"
      ]
     },
     "execution_count": 35,
     "metadata": {},
     "output_type": "execute_result"
    }
   ],
   "source": [
    "# find the critical_value\n",
    "\n",
    "crtical_value= stat.chi2.ppf(CI,dof ) # it takes the CI and degree of freedom\n",
    "crtical_value"
   ]
  },
  {
   "cell_type": "code",
   "execution_count": 36,
   "id": "17038de3",
   "metadata": {},
   "outputs": [
    {
     "data": {
      "text/plain": [
       "6.345634920634922"
      ]
     },
     "execution_count": 36,
     "metadata": {},
     "output_type": "execute_result"
    }
   ],
   "source": [
    "# chis_squre value and p value\n",
    "\n",
    "chi_sq, p_val=stat.chisquare(data.Observed_from_sample, data.Expected)\n",
    "chi_sq"
   ]
  },
  {
   "cell_type": "code",
   "execution_count": 37,
   "id": "030900f5",
   "metadata": {},
   "outputs": [
    {
     "data": {
      "text/plain": [
       "0.3856056791061172"
      ]
     },
     "execution_count": 37,
     "metadata": {},
     "output_type": "execute_result"
    }
   ],
   "source": [
    "p_val"
   ]
  },
  {
   "cell_type": "code",
   "execution_count": 38,
   "id": "81f2eea3",
   "metadata": {},
   "outputs": [
    {
     "name": "stdout",
     "output_type": "stream",
     "text": [
      "Accept the H0 \n"
     ]
    }
   ],
   "source": [
    "if chi_sq> crtical_value:\n",
    "    print(\"Reject The H0\")\n",
    "else:\n",
    "    print(\"Accept the H0 \")"
   ]
  },
  {
   "cell_type": "code",
   "execution_count": null,
   "id": "065d3b6e",
   "metadata": {},
   "outputs": [],
   "source": []
  }
 ],
 "metadata": {
  "kernelspec": {
   "display_name": "Python 3 (ipykernel)",
   "language": "python",
   "name": "python3"
  },
  "language_info": {
   "codemirror_mode": {
    "name": "ipython",
    "version": 3
   },
   "file_extension": ".py",
   "mimetype": "text/x-python",
   "name": "python",
   "nbconvert_exporter": "python",
   "pygments_lexer": "ipython3",
   "version": "3.9.13"
  }
 },
 "nbformat": 4,
 "nbformat_minor": 5
}
