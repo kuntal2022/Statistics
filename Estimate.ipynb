{
 "cells": [
  {
   "cell_type": "markdown",
   "id": "6f66eb13",
   "metadata": {},
   "source": [
    "# Q1: What is Estimation Statistics? Explain point estimate and interval estimate\n",
    "\n",
    "\n",
    "# ANS\n",
    "\n",
    "`a:  ` \n",
    "#### Estimate:\n",
    "* It is an numerical value which is used to estimate an unknown paramter of population distribution. Normally in inferential stas we use sample paramteres to find out the Esitmate of population paramaeter\n",
    "\n",
    "`b:  `\n",
    "#### Point Estimate:\n",
    "* A single numerical value which is ultimate like std = 0.5 only\n",
    "\n",
    "`c:  `\n",
    "#### Interval Estimate:\n",
    "* It is a range of values where the population distribution's specific parameters will stand at any point.\n"
   ]
  },
  {
   "cell_type": "markdown",
   "id": "4d9ebd0d",
   "metadata": {},
   "source": [
    "# Q2. Write a Python function to estimate the population mean using a sample mean and standard deviation\n",
    "\n",
    "# ANS:\n"
   ]
  },
  {
   "cell_type": "code",
   "execution_count": 7,
   "id": "ecd2a59f",
   "metadata": {},
   "outputs": [],
   "source": [
    "import markdown\n",
    "def estimate_population_mean(sample_mean, sample_stddev, sample_size):\n",
    "    \"\"\"Estimate the population mean using a sample mean and standard deviation\"\"\"\n",
    "    import math\n",
    "    \n",
    "    # Calculate the standard error of the mean\n",
    "    std_error_mean = sample_stddev / math.sqrt(sample_size)\n",
    "    \n",
    "    # Calculate the lower and upper bounds of the 95% confidence interval\n",
    "    lower_bound = sample_mean - 1.96 * std_error_mean\n",
    "    upper_bound = sample_mean + 1.96 * std_error_mean\n",
    "    \n",
    "    # Calculate the estimated population mean\n",
    "    pop_mean = (lower_bound + upper_bound) / 2\n",
    "    \n",
    "    return pop_mean"
   ]
  },
  {
   "cell_type": "code",
   "execution_count": 6,
   "id": "89ee9d7b",
   "metadata": {},
   "outputs": [
    {
     "data": {
      "text/plain": [
       "100.0"
      ]
     },
     "execution_count": 6,
     "metadata": {},
     "output_type": "execute_result"
    }
   ],
   "source": [
    "estimate_population_mean(100, 45,1000)"
   ]
  },
  {
   "cell_type": "markdown",
   "id": "e203b510",
   "metadata": {},
   "source": [
    "# Q3: What is Hypothesis testing? Why is it used? State the importance of Hypothesis testing\n",
    "\n",
    "\n",
    "# ANS:\n",
    "\n",
    "#### Hypothesis testing\n",
    "* It is the mechanism to proof the new truth against the uniarsal claim\n",
    "* We need to define the null hypothesis as the universal claim (H0) and alternative hypothsis (H1) as new asuumed truth.\n",
    "* Then we need to conduct the expreriment to proof the H1 through stats technique like z test, t test, annova \n",
    "\n",
    "#### It is used to :\n",
    "* Proof the new truth against the uniersal claim.\n",
    "* Industries use this in diffrent aspects like to proof the new medecine is better than the old med in the term of eficacy or the new product is more benifical compaired to the old product.\n",
    "\n",
    "#### Importance:\n",
    "\n",
    "* To proceed with any comaparison test we need to get an standard protocol which we can claim H0 and then we can assumed our new fact against testing the standard proctocol.\n",
    "\n",
    "* Without testing H1 to H0 the base of the test will be meaningless."
   ]
  },
  {
   "cell_type": "markdown",
   "id": "7fe2c8ba",
   "metadata": {},
   "source": [
    "# Q4. Create a hypothesis that states whether the average weight of male college students is greater than the average weight of female college students.\n",
    "\n",
    "# ANS:\n",
    "\n",
    "### H0 :  Average weight of male students is > Feamle student's average weight\n",
    "### H1 :  Average weight of male students is <= Feamle student's average weight"
   ]
  },
  {
   "cell_type": "markdown",
   "id": "2aed7b4a",
   "metadata": {},
   "source": [
    "# Q5. Write a Python script to conduct a hypothesis test on the difference between two population means, given a sample from each population\n",
    "\n",
    "# Ans:"
   ]
  },
  {
   "cell_type": "code",
   "execution_count": 11,
   "id": "789723c9",
   "metadata": {},
   "outputs": [
    {
     "name": "stdout",
     "output_type": "stream",
     "text": [
      "Sample 1 Mean: 3.0\n",
      "Sample 2 Mean: 5.0\n",
      "Sample 1 Standard Deviation: 1.5811388300841898\n",
      "Sample 2 Standard Deviation: 1.5811388300841898\n",
      "Degrees of Freedom: 8\n",
      "T-Statistic: -2.0\n",
      "P-Value: 0.08051623795726257\n"
     ]
    }
   ],
   "source": [
    "import numpy as np\n",
    "from scipy.stats import ttest_ind, zscore\n",
    "\n",
    "# Sample data from population 1\n",
    "pop1 = np.array([1, 2, 3, 4, 5])\n",
    "\n",
    "# Sample data from population 2\n",
    "pop2 = np.array([3, 4, 5, 6, 7])\n",
    "\n",
    "# Calculate the sample means\n",
    "mean1 = np.mean(pop1)\n",
    "mean2 = np.mean(pop2)\n",
    "\n",
    "# Calculate the sample standard deviations\n",
    "std1 = np.std(pop1, ddof=1)\n",
    "std2 = np.std(pop2, ddof=1)\n",
    "\n",
    "# Calculate the degrees of freedom\n",
    "dof = len(pop1) + len(pop2) - 2\n",
    "\n",
    "# Calculate the t-statistic and p-value\n",
    "t_stat, p_val = ttest_ind(pop1, pop2)\n",
    "\n",
    "# Print the results\n",
    "print(\"Sample 1 Mean:\", mean1)\n",
    "print(\"Sample 2 Mean:\", mean2)\n",
    "print(\"Sample 1 Standard Deviation:\", std1)\n",
    "print(\"Sample 2 Standard Deviation:\", std2)\n",
    "print(\"Degrees of Freedom:\", dof)\n",
    "print(\"T-Statistic:\", t_stat)\n",
    "print(\"P-Value:\", p_val)\n"
   ]
  },
  {
   "cell_type": "markdown",
   "id": "66f52b9c",
   "metadata": {},
   "source": [
    "# Q6: What is a null and alternative hypothesis? Give some examples.\n",
    "\n",
    "# ANS\n",
    "\n",
    "In statistics, a null hypothesis is a statement that suggests there is no significant difference or relationship between two variables, while an alternative hypothesis is a statement that suggests otherwise. The null hypothesis is usually denoted as H0, while the alternative hypothesis is denoted as Ha.\n",
    "\n",
    "Here are some examples of null and alternative hypotheses:\n",
    "\n",
    "Null Hypothesis: The average height of men and women is the same.\n",
    "Alternative Hypothesis: The average height of men and women is different.\n",
    "\n",
    "Null Hypothesis: A new drug does not have any effect on patients' blood pressure.\n",
    "Alternative Hypothesis: A new drug has an effect on patients' blood pressure.\n",
    "\n",
    "Null Hypothesis: There is no relationship between age and income.\n",
    "Alternative Hypothesis: There is a relationship between age and income.\n",
    "\n",
    "Null Hypothesis: The mean scores of two groups on a test are equal.\n",
    "Alternative Hypothesis: The mean scores of two groups on a test are different.\n",
    "\n",
    "Null Hypothesis: A new advertising campaign has no effect on sales.\n",
    "Alternative Hypothesis: A new advertising campaign has an effect on sales.\n",
    "\n",
    "The null hypothesis is usually tested using statistical tests, such as t-tests, ANOVA, and regression analysis. The decision to reject or accept the null hypothesis is based on the level of significance or p-value obtained from the statistical test.\n",
    "\n",
    "\n",
    "\n",
    "\n",
    "\n"
   ]
  },
  {
   "cell_type": "markdown",
   "id": "095d6915",
   "metadata": {},
   "source": [
    "# Q7: Write down the steps involved in hypothesis testing\n",
    "\n",
    "* \n",
    "# ANS\n",
    "\n",
    "* Hypothesis testing is a process used in statistics to determine the validity of a hypothesis or claim. The following are the steps involved in hypothesis testing:\n",
    "\n",
    "* State the null hypothesis and alternative hypothesis: The first step in hypothesis testing is to clearly state the null hypothesis and alternative hypothesis. The null hypothesis is the statement that we want to test, while the alternative hypothesis is the statement that we accept if we reject the null hypothesis.\n",
    "\n",
    "* Set the significance level: The significance level (also known as alpha) is the probability of rejecting the null hypothesis when it is true. It is typically set at 0.05 or 0.01.\n",
    "\n",
    "* Determine the appropriate test statistic: The appropriate test statistic depends on the type of data being analyzed and the research question being asked.\n",
    "\n",
    "* Calculate the test statistic: Once the appropriate test statistic has been determined, calculate the test statistic using the data collected.\n",
    "\n",
    "* Determine the p-value: The p-value is the probability of obtaining a test statistic as extreme or more extreme than the observed test statistic under the null hypothesis.\n",
    "\n",
    "* Make a decision: If the p-value is less than the significance level, reject the null hypothesis. If the p-value is greater than the significance level, fail to reject the null hypothesis.\n",
    "\n",
    "* Interpret the results: If the null hypothesis is rejected, interpret the results in light of the research question and alternative hypothesis. If the null hypothesis is not rejected, interpret the results in light of the limitations of the study and the research question.\n",
    "\n",
    "* Draw conclusions: Based on the results of the hypothesis test, draw conclusions about the research question and hypothesis being tested.\n",
    "\n",
    "* It is important to note that hypothesis testing is just one tool used in statistical analysis, and that conclusions should be drawn based on a full understanding of the limitations and assumptions of the statistical methods used.\n",
    "\n"
   ]
  },
  {
   "cell_type": "markdown",
   "id": "ddd88253",
   "metadata": {},
   "source": [
    "# Q8. Define p-value and explain its significance in hypothesis testing\n",
    "\n",
    "# ANS\n",
    "\n",
    "* The p-value is a statistical measure used to determine the level of significance of an observed result in hypothesis testing. It represents the probability of obtaining a test statistic as extreme or more extreme than the observed test statistic, assuming that the null hypothesis is true.\n",
    "\n",
    "* In other words, the p-value represents the likelihood of observing the result, or a more extreme result, under the assumption that there is no true effect or difference between the two groups being compared. If the p-value is small, it suggests that the observed result is unlikely to occur by chance alone, and therefore provides evidence against the null hypothesis.\n",
    "\n",
    "* In hypothesis testing, the p-value is used to make a decision about whether to reject or fail to reject the null hypothesis. If the p-value is smaller than the pre-determined significance level (usually set at 0.05 or 0.01), the null hypothesis is rejected in favor of the alternative hypothesis, indicating that the observed result is statistically significant. On the other hand, if the p-value is greater than the significance level, the null hypothesis is not rejected, indicating that the observed result is not statistically significant.\n",
    "\n",
    "* The p-value is important in hypothesis testing because it provides a way to assess the strength of evidence against the null hypothesis. A smaller p-value indicates stronger evidence against the null hypothesis and suggests that the observed result is less likely to be due to chance. It is important to note that the p-value does not provide direct evidence in favor of the alternative hypothesis, but rather provides evidence against the null hypothesis.\n",
    "\n"
   ]
  },
  {
   "cell_type": "markdown",
   "id": "af639e9c",
   "metadata": {},
   "source": [
    "# Q9. Generate a Student's t-distribution plot using Python's matplotlib library, with the degrees of freedom  parameter set to 10\n",
    "\n",
    "\n",
    "# ANS"
   ]
  },
  {
   "cell_type": "code",
   "execution_count": 12,
   "id": "0207bea8",
   "metadata": {},
   "outputs": [
    {
     "data": {
      "image/png": "[encoded data removed]",
      "text/plain": [
       "<Figure size 640x480 with 1 Axes>"
      ]
     },
     "metadata": {},
     "output_type": "display_data"
    }
   ],
   "source": [
    "import matplotlib.pyplot as plt\n",
    "import numpy as np\n",
    "from scipy.stats import t\n",
    "\n",
    "df = 10 # degrees of freedom\n",
    "\n",
    "x = np.linspace(-5, 5, 1000)\n",
    "y = t.pdf(x, df)\n",
    "\n",
    "plt.plot(x, y, label='t-distribution (df=10)')\n",
    "plt.legend()\n",
    "plt.show()\n"
   ]
  },
  {
   "cell_type": "markdown",
   "id": "e4c7cdf0",
   "metadata": {},
   "source": [
    "# Q10. Write a Python program to calculate the two-sample t-test for independent samples, given two random samples of equal size and a null hypothesis that the population means are equal.\n",
    "\n",
    "\n",
    "# ANS"
   ]
  },
  {
   "cell_type": "code",
   "execution_count": 13,
   "id": "d09bd0b3",
   "metadata": {},
   "outputs": [
    {
     "name": "stdout",
     "output_type": "stream",
     "text": [
      "Null hypothesis: The population means of the two samples are equal.\n",
      "Sample 1: [ 3  5  6  7  9 11]\n",
      "Sample 2: [ 2  4  6  8 10 12]\n",
      "t-statistic: -0.09\n",
      "p-value: 0.93\n"
     ]
    }
   ],
   "source": [
    "import numpy as np\n",
    "from scipy.stats import ttest_ind\n",
    "\n",
    "# Two random samples of equal size\n",
    "sample1 = np.array([3, 5, 6, 7, 9, 11])\n",
    "sample2 = np.array([2, 4, 6, 8, 10, 12])\n",
    "\n",
    "# Null hypothesis: population means are equal\n",
    "null_hypothesis = \"The population means of the two samples are equal.\"\n",
    "\n",
    "# Calculate the t-statistic and p-value\n",
    "t_statistic, p_value = ttest_ind(sample1, sample2)\n",
    "\n",
    "# Print the results\n",
    "print(\"Null hypothesis: {}\".format(null_hypothesis))\n",
    "print(\"Sample 1: {}\".format(sample1))\n",
    "print(\"Sample 2: {}\".format(sample2))\n",
    "print(\"t-statistic: {:.2f}\".format(t_statistic))\n",
    "print(\"p-value: {:.2f}\".format(p_value))\n"
   ]
  },
  {
   "cell_type": "markdown",
   "id": "cafd0385",
   "metadata": {},
   "source": [
    "# Q11: What is Student’s t distribution? When to use the t-Distribution.\n",
    "\n",
    "\n",
    "# ANS\n",
    "\n"
   ]
  },
  {
   "cell_type": "markdown",
   "id": "5ccf7a3b",
   "metadata": {},
   "source": [
    "# Q12: What is t-statistic? State the formula for t-statistic.\n",
    "\n",
    "\n",
    "# ANS\n",
    "\n",
    "* Student's t-distribution, also known as the t-distribution, is a probability distribution that arises when estimating the mean of a normally distributed population with an unknown variance. It is used to make inferences about the population mean based on a sample of observations.\n",
    "\n",
    "* The t-distribution has a bell-shaped curve, like the normal distribution, but with heavier tails. This means that it has more probability in the tails than the normal distribution. The shape of the t-distribution depends on a parameter called degrees of freedom (df), which is determined by the sample size.\n",
    "\n",
    "* The t-distribution is used in hypothesis testing and confidence interval estimation when the population variance is unknown and the sample size is small. Specifically, when the sample size is less than 30 or the population variance is unknown, the t-distribution is used instead of the normal distribution to calculate the probability of obtaining a given sample mean. In these situations, the t-distribution provides a better approximation of the true sampling distribution of the mean.\n",
    "\n",
    "* The t-distribution is also used in situations where the data are approximately normal, but the sample size is large. In this case, the t-distribution can be used as an approximation of the normal distribution.\n",
    "\n",
    "* In summary, the t-distribution is a probability distribution that is used to make inferences about the population mean based on a sample of observations when the population variance is unknown and the sample size is small. It provides a better approximation of the true sampling distribution of the mean compared to the normal distribution in these situations.* \n",
    "\n"
   ]
  },
  {
   "cell_type": "markdown",
   "id": "8e8abdcc",
   "metadata": {},
   "source": [
    "# Q13. A coffee shop owner wants to estimate the average daily revenue for their shop. They take a random sample of 50 days and find the sample mean revenue to be `500 with a standard deviation of  $50. Estimate the population mean revenue with a 95% confidence interval."
   ]
  },
  {
   "cell_type": "code",
   "execution_count": 14,
   "id": "a8658628",
   "metadata": {},
   "outputs": [
    {
     "name": "stdout",
     "output_type": "stream",
     "text": [
      "95% confidence interval: (485.79, 514.21)\n"
     ]
    }
   ],
   "source": [
    "import scipy.stats as stats\n",
    "import math\n",
    "\n",
    "sample_mean = 500\n",
    "sample_std = 50\n",
    "sample_size = 50\n",
    "confidence_level = 0.95\n",
    "\n",
    "# Calculate the t-value for a 95% confidence interval with 49 degrees of freedom\n",
    "t_value = stats.t.ppf((1 + confidence_level) / 2, sample_size - 1)\n",
    "\n",
    "# Calculate the standard error\n",
    "standard_error = sample_std / math.sqrt(sample_size)\n",
    "\n",
    "# Calculate the margin of error\n",
    "margin_of_error = t_value * standard_error\n",
    "\n",
    "# Calculate the confidence interval\n",
    "lower_bound = sample_mean - margin_of_error\n",
    "upper_bound = sample_mean + margin_of_error\n",
    "\n",
    "print(f\"95% confidence interval: ({lower_bound:.2f}, {upper_bound:.2f})\")\n",
    "\n",
    "\n"
   ]
  },
  {
   "cell_type": "markdown",
   "id": "d2c27758",
   "metadata": {},
   "source": [
    "# Q14. A researcher hypothesizes that a new drug will decrease blood pressure by 10 mmHg. They conduct a clinical trial with 100 patients and find that the sample mean decrease in blood pressure is 8 mmHg with a standard deviation of 3 mmHg. Test the hypothesis with a significance level of 0.05.\n"
   ]
  },
  {
   "cell_type": "code",
   "execution_count": 17,
   "id": "1efca6b1",
   "metadata": {},
   "outputs": [
    {
     "name": "stdout",
     "output_type": "stream",
     "text": [
      "Reject the null hypothesis.\n",
      "t-value: -6.67\n",
      "p-value: 0.00000\n"
     ]
    }
   ],
   "source": [
    "import scipy.stats as stats\n",
    "import math\n",
    "\n",
    "hypothesized_mean = -10 # as it is reducing so took negative \n",
    "sample_mean = 8\n",
    "sample_std = 3\n",
    "sample_size = 100\n",
    "significance_level = 0.05\n",
    "\n",
    "# Calculate the t-value and degrees of freedom\n",
    "t_value = (sample_mean - hypothesized_mean) / (sample_std / math.sqrt(sample_size))\n",
    "df = sample_size - 1\n",
    "\n",
    "# Calculate the p-value\n",
    "p_value = 2 * stats.t.cdf(-abs(t_value), df)\n",
    "\n",
    "# Compare the p-value with the significance level\n",
    "if p_value < significance_level:\n",
    "    print(\"Reject the null hypothesis.\")\n",
    "else:\n",
    "    print(\"Fail to reject the null hypothesis.\")\n",
    "\n",
    "print(f\"t-value: {t_value:.2f}\")\n",
    "print(f\"p-value: {p_value:.5f}\")\n"
   ]
  },
  {
   "cell_type": "markdown",
   "id": "3c507507",
   "metadata": {},
   "source": [
    "# Q15. An electronics company produces a certain type of product with a mean weight of 5 pounds and a standard deviation of 0.5 pounds. A random sample of 25 products is taken, and the sample mean weight is found to be 4.8 pounds. Test the hypothesis that the true mean weight of the products is less than 5 pounds with a significance level of 0.01."
   ]
  },
  {
   "cell_type": "code",
   "execution_count": 19,
   "id": "a279c652",
   "metadata": {},
   "outputs": [
    {
     "name": "stdout",
     "output_type": "stream",
     "text": [
      "Fail to reject null hypothesis: true mean weight is not less than 5 pounds.\n"
     ]
    }
   ],
   "source": [
    "import numpy as np\n",
    "from scipy.stats import t\n",
    "\n",
    "# sample data\n",
    "n = 25\n",
    "x_bar = 4.8\n",
    "s = 0.5\n",
    "mu = 5\n",
    "\n",
    "# calculate the t-value\n",
    "t_value = (x_bar - mu) / (s / np.sqrt(n))\n",
    "\n",
    "# calculate the critical t-value\n",
    "alpha = 0.01\n",
    "df = n - 1\n",
    "t_crit = t.ppf(alpha, df)\n",
    "\n",
    "# compare the t-value with the critical t-value\n",
    "if t_value < t_crit:\n",
    "    print(\"Reject null hypothesis: true mean weight is less than 5 pounds.\")\n",
    "else:\n",
    "    print(\"Fail to reject null hypothesis: true mean weight is not less than 5 pounds.\")\n"
   ]
  },
  {
   "cell_type": "markdown",
   "id": "ff71325e",
   "metadata": {},
   "source": [
    "# Q16. Two groups of students are given different study materials to prepare for a test. The first group (n1 = 30) has a mean score of 80 with a standard deviation of 10, and the second group (n2 = 40) has a mean score of 75 with a standard deviation of 8. Test the hypothesis that the population means for the two groups are equal with a significance level of 0.01.\n"
   ]
  },
  {
   "cell_type": "code",
   "execution_count": 20,
   "id": "45feb672",
   "metadata": {},
   "outputs": [
    {
     "name": "stdout",
     "output_type": "stream",
     "text": [
      "Reject null hypothesis: the population means for the two groups are not equal.\n"
     ]
    }
   ],
   "source": [
    "import numpy as np\n",
    "from scipy.stats import t\n",
    "\n",
    "# sample data\n",
    "n1 = 30\n",
    "x1_bar = 80\n",
    "s1 = 10\n",
    "\n",
    "n2 = 40\n",
    "x2_bar = 75\n",
    "s2 = 8\n",
    "\n",
    "# calculate the pooled standard deviation\n",
    "s_p = np.sqrt(((n1-1)*s1**2 + (n2-1)*s2**2) / (n1+n2-2))\n",
    "\n",
    "# calculate the t-value\n",
    "t_value = (x1_bar - x2_bar) / (s_p * np.sqrt(1/n1 + 1/n2))\n",
    "\n",
    "# calculate the critical t-value\n",
    "alpha = 0.01\n",
    "df = n1 + n2 - 2\n",
    "t_crit = t.ppf(alpha/2, df)\n",
    "\n",
    "# compare the absolute t-value with the critical t-value\n",
    "if abs(t_value) > t_crit:\n",
    "    print(\"Reject null hypothesis: the population means for the two groups are not equal.\")\n",
    "else:\n",
    "    print(\"Fail to reject null hypothesis: the population means for the two groups are equal.\")\n"
   ]
  },
  {
   "cell_type": "markdown",
   "id": "ea9f1f90",
   "metadata": {},
   "source": [
    "# Q17. A marketing company wants to estimate the average number of ads watched by viewers during a TV program. They take a random sample of 50 viewers and find that the sample mean is 4 with a standard deviation of 1.5. Estimate the population mean with a 99% confidence interval"
   ]
  },
  {
   "cell_type": "code",
   "execution_count": 21,
   "id": "920ea830",
   "metadata": {},
   "outputs": [
    {
     "name": "stdout",
     "output_type": "stream",
     "text": [
      "The 99% confidence interval for the population mean is: (3.4314963358572577, 4.568503664142742)\n"
     ]
    }
   ],
   "source": [
    "import numpy as np\n",
    "from scipy.stats import t\n",
    "\n",
    "# sample data\n",
    "n = 50\n",
    "x_bar = 4\n",
    "s = 1.5\n",
    "\n",
    "# calculate the t-value\n",
    "alpha = 0.01 # significance level of 0.01 corresponds to 99% confidence level\n",
    "df = n - 1\n",
    "t_value = t.ppf(1 - alpha/2, df)\n",
    "\n",
    "# calculate the confidence interval\n",
    "CI = (x_bar - t_value * s/np.sqrt(n), x_bar + t_value * s/np.sqrt(n))\n",
    "\n",
    "print(\"The 99% confidence interval for the population mean is:\", CI)\n"
   ]
  },
  {
   "cell_type": "code",
   "execution_count": null,
   "id": "5ddb20cf",
   "metadata": {},
   "outputs": [],
   "source": []
  }
 ],
 "metadata": {
  "kernelspec": {
   "display_name": "Python 3 (ipykernel)",
   "language": "python",
   "name": "python3"
  },
  "language_info": {
   "codemirror_mode": {
    "name": "ipython",
    "version": 3
   },
   "file_extension": ".py",
   "mimetype": "text/x-python",
   "name": "python",
   "nbconvert_exporter": "python",
   "pygments_lexer": "ipython3",
   "version": "3.9.13"
  }
 },
 "nbformat": 4,
 "nbformat_minor": 5
}
